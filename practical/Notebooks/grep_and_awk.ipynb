{
 "cells": [
  {
   "cell_type": "markdown",
   "metadata": {},
   "source": [
    "# The commands `grep` and `awk`\n",
    "\n",
    "In this section we will introduce the commands `grep` and `awk`."
   ]
  },
  {
   "cell_type": "markdown",
   "metadata": {},
   "source": [
    "## Searching inside files with `grep`\n",
    "\n",
    "A common task is to extract information from large files. This can be achieved using the Linux command `grep`, which stands for \"Globally search for a Regular Expression and Print\". The meaning of this acronym will become clear later, when we discuss Regular Expressions. First, we will consider simpler examples.\n",
    "\n",
    "Before we start, change into the `grep` directory:"
   ]
  },
  {
   "cell_type": "code",
   "execution_count": null,
   "metadata": {},
   "outputs": [],
   "source": [
    "cd ../grep"
   ]
  },
  {
   "cell_type": "markdown",
   "metadata": {},
   "source": [
    "### Simple pattern matching\n",
    "\n",
    "We will use a small example file (in \"BED\" format), which contains information about gene features in a genome. A bed file is a column-based file, each column contains information about the feature and is seperated by a tab character. There can be more than 10 columns, but only the first three are required to be a valid file. The file format is described in full here: [http://genome.ucsc.edu/FAQ/FAQformat#format1](http://genome.ucsc.edu/FAQ/FAQformat#format1). We will use the first 5 columns:\n",
    "\n",
    "1. Sequence name\n",
    "2. start position (starting from 0, not 1)\n",
    "3. end position (starting from 0, not 1)\n",
    "4. feature name\n",
    "5. score (which is used to store the gene expression level in our examples).\n",
    "\n",
    "Here is the contents of the first example BED file used in this section:"
   ]
  },
  {
   "cell_type": "code",
   "execution_count": null,
   "metadata": {
    "scrolled": false
   },
   "outputs": [],
   "source": [
    "cat gene_expression.bed"
   ]
  },
  {
   "cell_type": "markdown",
   "metadata": {},
   "source": [
    "In reality, such a file could contain 100,000s of lines, so that it is not practical to read manually. Suppose we are interested in all the genes from chromosome 2. We can find all these lines using grep:"
   ]
  },
  {
   "cell_type": "code",
   "execution_count": null,
   "metadata": {},
   "outputs": [],
   "source": [
    "grep chr2 gene_expression.bed"
   ]
  },
  {
   "cell_type": "markdown",
   "metadata": {},
   "source": [
    "This has shown us all the lines that contain the text or string \"chr2\".\n",
    "\n",
    "We can use a pipe to then just extract the genes that are on the positive strand, using grep a second time:"
   ]
  },
  {
   "cell_type": "code",
   "execution_count": null,
   "metadata": {},
   "outputs": [],
   "source": [
    "grep chr2 gene_expression.bed | grep +"
   ]
  },
  {
   "cell_type": "markdown",
   "metadata": {},
   "source": [
    "However, since `grep` is reporting a match to a string *anywhere* on a line, such simple searches can have undesired consequences. For example, consider the result of doing a similar search for all the genes in chromosome 1:\n",
    "\n",
    "\n"
   ]
  },
  {
   "cell_type": "code",
   "execution_count": null,
   "metadata": {},
   "outputs": [],
   "source": [
    "grep chr1 gene_expression.bed"
   ]
  },
  {
   "cell_type": "markdown",
   "metadata": {},
   "source": [
    "Oops! We found genes in chromosome 10, because \"chr1\" is a substring (subset) of \"chr10\".\n",
    "\n",
    "Or consider the following file, where the genes have unpredictable names (which is not unusual for bioinformatics data)."
   ]
  },
  {
   "cell_type": "code",
   "execution_count": null,
   "metadata": {
    "scrolled": true
   },
   "outputs": [],
   "source": [
    "cat gene_expression_sneaky.bed"
   ]
  },
  {
   "cell_type": "markdown",
   "metadata": {},
   "source": [
    " Now we try to find genes on chromosome 1 that are on the negative strand. We put the minus sign in quotes, to stop Linux interpreting this as an option to `grep`, as opposed to the string we are searching for:"
   ]
  },
  {
   "cell_type": "code",
   "execution_count": null,
   "metadata": {
    "scrolled": true
   },
   "outputs": [],
   "source": [
    "grep chr1 gene_expression_sneaky.bed | grep '-'"
   ]
  },
  {
   "cell_type": "markdown",
   "metadata": {},
   "source": [
    "The extra lines are found by `grep` because of matches in columns we were not expecting to match. Remember, `grep` is reporting these lines because they each contain the strings \"chr1\" and \"-\" *somewhere*.\n",
    "\n",
    "We need a way to make searching with `grep` more specific.\n",
    "\n",
    "### Regular expressions\n",
    "\n",
    "Regular expressions provide the solution to the above problems. They are ways of defining more specific patterns to search for.\n",
    "\n",
    "#### Matching the start and end of lines\n",
    "\n",
    "First, we can specify that a match must be at the start of a line using the symbol \"`^`\", which means \"start of line\". Without the `^`, we find any match to \"chr1\":"
   ]
  },
  {
   "cell_type": "code",
   "execution_count": null,
   "metadata": {
    "scrolled": true
   },
   "outputs": [],
   "source": [
    "grep chr1 gene_expression_sneaky.bed"
   ]
  },
  {
   "cell_type": "code",
   "execution_count": null,
   "metadata": {},
   "outputs": [],
   "source": [
    "grep '^chr1' gene_expression_sneaky.bed"
   ]
  },
  {
   "cell_type": "markdown",
   "metadata": {},
   "source": [
    "Good! We have removed the match to the badly-named gene \"chr11.gene1\", which is on chromosome 8. Now we want to avoid matching chromosomes 10 and 11. This can be done by also looking for a \"tab\" character, which is represented by writing `\\t`. For technical reasons, which are beyond the scope of this course, we must also put a dollar sign before the quotes to make any search involving a tab character work."
   ]
  },
  {
   "cell_type": "code",
   "execution_count": null,
   "metadata": {},
   "outputs": [],
   "source": [
    "grep $'^chr1\\t' gene_expression_sneaky.bed"
   ]
  },
  {
   "cell_type": "markdown",
   "metadata": {},
   "source": [
    "To find the genes on the negative strand, all that remains is to match a minus sign at the *end* of the line (so that we do not find \"sneaky-gene3\"). We can do this using the dollar \"`$`\", which means \"end of line\"."
   ]
  },
  {
   "cell_type": "code",
   "execution_count": null,
   "metadata": {},
   "outputs": [],
   "source": [
    "grep $'^chr1\\t' gene_expression_sneaky.bed | grep '\\-$'"
   ]
  },
  {
   "cell_type": "markdown",
   "metadata": {},
   "source": [
    "#### Wildcards and alphabets\n",
    "\n",
    "Another special character in regular expressions is the dot: \".\". This stands for any single character. For example, this finds all matches to chromosomes 1-9, and chromosomes X and Y:\n"
   ]
  },
  {
   "cell_type": "code",
   "execution_count": null,
   "metadata": {},
   "outputs": [],
   "source": [
    "grep $'^chr.\\t' gene_expression.bed"
   ]
  },
  {
   "cell_type": "markdown",
   "metadata": {},
   "source": [
    "In fact, the earlier command that found all genes on chromosome 1 that are on the negative strand, could be found with a single call to `grep` instead of two calls piped together. To do this, we need a regular expression that finds lines that:\n",
    "\n",
    "* start with chr1, then a tab character\n",
    "* end with a minus\n",
    "* have arbitrary characters between.\n",
    "\n",
    "The asterisk \"\\*\" has a special meaning: it says to match any number (including zero) of whatever character is before the \\*. For example, the regular expression 'AC\\*G' will match AG, ACG, ACCG, etc. The simpler, improved command is:"
   ]
  },
  {
   "cell_type": "code",
   "execution_count": null,
   "metadata": {},
   "outputs": [],
   "source": [
    "grep $'^chr1\\t.*-$' gene_expression_sneaky.bed"
   ]
  },
  {
   "cell_type": "markdown",
   "metadata": {},
   "source": [
    "As well as matching any character using a dot, we can define any list of characters to match, using square brackets. For example, [12X] means match a 1, 2, or an X. This can be used to find all genes from chromosomes 1, 2 and X: "
   ]
  },
  {
   "cell_type": "code",
   "execution_count": null,
   "metadata": {},
   "outputs": [],
   "source": [
    "grep $'^chr[12X]\\t' gene_expression.bed"
   ]
  },
  {
   "cell_type": "markdown",
   "metadata": {},
   "source": [
    "Or just the autosomes may be of interest. To do this we introduce two new features:\n",
    "\n",
    "* Ranges can be given in square brackets, for example [1-5] will match 1, 2, 3, 4 or 5.\n",
    "* The plus sign \"+\" has a special meaning that is similar to \"\\*\". Instead of any number of matches (including zero), it looks for at least one match. To avoid simply matching a plus sign, it must be preceded by a backslash: \"\\\\+\". For example, the regular expression 'AC\\\\+G' will match ACG, ACCG, ACCCG etc (but will not match AG).\n",
    "\n",
    "Warning: Adding a backslash is often called _escaping_ (e.g. _escape the plus symbol_).  Depending on the software you're using (and the options you give it), you may need to escape the symbol to indicate that you want its special regex meaning (e.g. multiple copies of the last character please) or its literal meaning (e.g. give me a '+' symbol please).  If your command isn't working as you expect, try playing with these options and always test your regular expression before assuming it gave you the right answer.\n",
    "\n",
    "The command to find the autosomes is:"
   ]
  },
  {
   "cell_type": "code",
   "execution_count": null,
   "metadata": {
    "scrolled": true
   },
   "outputs": [],
   "source": [
    "grep $'^chr[0-9]\\+\\t' gene_expression.bed"
   ]
  },
  {
   "cell_type": "markdown",
   "metadata": {},
   "source": [
    "### Other `grep` options\n",
    "The Linux command `grep` and regular expressions are extremely powerful and we have only scratched the surface of what they can do. Take a look at the manual (by typing `man grep`) to get an idea. A few particularly useful options are discussed below."
   ]
  },
  {
   "cell_type": "code",
   "execution_count": null,
   "metadata": {},
   "outputs": [],
   "source": [
    "man grep"
   ]
  },
  {
   "cell_type": "markdown",
   "metadata": {},
   "source": [
    "#### Counting matches\n",
    "A common scenario is counting matches within files. Instead of output each matching line, the option \"`-c`\" tells `grep` to report the number of lines that matched. For example, the number of genes in the autosomes in the above example can be found by simply adding `-c` to the command."
   ]
  },
  {
   "cell_type": "code",
   "execution_count": null,
   "metadata": {},
   "outputs": [],
   "source": [
    "grep -c $'^chr[0-9]\\+\\t' gene_expression.bed"
   ]
  },
  {
   "cell_type": "markdown",
   "metadata": {},
   "source": [
    "#### Case sensitivity\n",
    "By default, `grep` is case-sensitive. It can be useful to ignore the distinction between upper and lower case using the option \"`-i`\". Suppose we have a file of sequences, and want to find the sequences that contain the string ACGT. It is not unusual to come across files that have a mix of upper and lower case nucleotides. Consider this FASTA file:"
   ]
  },
  {
   "cell_type": "code",
   "execution_count": null,
   "metadata": {},
   "outputs": [],
   "source": [
    "cat sequences.fasta"
   ]
  },
  {
   "cell_type": "markdown",
   "metadata": {},
   "source": [
    "A simple search for ACGT will not return all the results:"
   ]
  },
  {
   "cell_type": "code",
   "execution_count": null,
   "metadata": {},
   "outputs": [],
   "source": [
    "grep ACGT sequences.fasta"
   ]
  },
  {
   "cell_type": "markdown",
   "metadata": {},
   "source": [
    "However, making the search case-insensitive solves the problem."
   ]
  },
  {
   "cell_type": "code",
   "execution_count": null,
   "metadata": {},
   "outputs": [],
   "source": [
    "grep -i ACGT sequences.fasta"
   ]
  },
  {
   "cell_type": "markdown",
   "metadata": {},
   "source": [
    "#### Inverting matches\n",
    "By default, `grep` reports all lines that do match the regular expression. Sometimes it is useful to filter a file, by reporting lines that *do not* match the regular expression. Using the option \"`-v`\" makes `grep` \"invert\" the output. For example, we could exclude genes from autosomes in the BED file from earlier."
   ]
  },
  {
   "cell_type": "code",
   "execution_count": null,
   "metadata": {},
   "outputs": [],
   "source": [
    "grep -v $'^chr[0-9]\\+\\t' gene_expression.bed"
   ]
  },
  {
   "cell_type": "markdown",
   "metadata": {},
   "source": [
    "### Replacing matches to regular expressions\n",
    "Finally, we show how to replace every match to a regular expression with something else, using the command \"`sed`\". The general form of this is:\n",
    "\n",
    "    sed 's/regular expression/new string/' input_file\n",
    "    \n",
    "This will output a new version of the input file, with each match to the regular expression replaced with \"`new string`\". For example, try:"
   ]
  },
  {
   "cell_type": "code",
   "execution_count": null,
   "metadata": {
    "scrolled": true
   },
   "outputs": [],
   "source": [
    "sed 's/^chr/chromosome/' gene_expression.bed"
   ]
  },
  {
   "cell_type": "markdown",
   "metadata": {},
   "source": [
    "This will replace every occurence of the text \"chr\" that appears at the start of a line in the file ``gene_expression.bed`` with the text \"chromosome\"."
   ]
  },
  {
   "cell_type": "markdown",
   "metadata": {},
   "source": [
    "### Exercises\n",
    "\n",
    "The following exercises all use the FASTA file `exercises.fasta`. Before starting the exercises, open a new terminal and navigate to the `linux/data/grep` directory, which contains `exercises.fasta`.\n",
    "\n",
    "Use `grep` to find the answers. Hint: some questions require you to use `grep` twice, and possibly some other Linux commands.\n",
    "\n",
    "1. Make a `grep` command that outputs just the lines with the sequence names.\n",
    "2. How many sequences are in the file?\n",
    "3. Do any sequence names have spaces in them? What are their names?\n",
    "4. Make a `grep` command that outputs just the lines with the sequences, not the names.\n",
    "5. How many sequences contain unknown bases (an \"n\" or \"N\")?\n",
    "6. Are there any sequences that contain non-nucleotides (something other than A, C, G, T or N)?\n",
    "7. How many sequences contain the 5' cut site GCWGC (where W can be an A or T) for the restriction enzyme AceI?\n",
    "8. Are there any sequences that have the same name? You do not need to find the actual repeated names, just whether any names are repeated. (Hint: it may be easier to first discover how many unique names there are)."
   ]
  },
  {
   "cell_type": "markdown",
   "metadata": {},
   "source": [
    "## File processing with AWK\n",
    "\n",
    "AWK is a programming language named after the initials of its three inventors: Alfred **A**ho, Peter **W**einberger, and Brian **K**ernighan. AWK is incredibly powerful at processing files, particularly column-based files, which are commonplace in Bioinformatics. For example, BED, GFF, and SAM files.\n",
    "\n",
    "Although long programs, put into a separate file, can be written using AWK, we will use it directly on the command line. Effectively, these are very short AWK programs, often called \"one-liners\".\n",
    "\n",
    "Before we start, change into the `awk` directory:"
   ]
  },
  {
   "cell_type": "code",
   "execution_count": null,
   "metadata": {},
   "outputs": [],
   "source": [
    "cd ../awk"
   ]
  },
  {
   "cell_type": "markdown",
   "metadata": {},
   "source": [
    "### Extracting columns from files\n",
    "The command `awk` reads a file line-by-line, splitting each line into columns. This makes it easy to do simple things like extract a column from a file. We will use the following GFF file for our examples."
   ]
  },
  {
   "cell_type": "code",
   "execution_count": null,
   "metadata": {},
   "outputs": [],
   "source": [
    "cat genes.gff"
   ]
  },
  {
   "cell_type": "markdown",
   "metadata": {},
   "source": [
    "A GFF file is similar to a BED file in that it contains information about gene features in a genome. It is a column-based file, each column contains information about the feature. The columns in the GFF file are separated by tabs and each column has the following meaning:\n",
    "\n",
    "1. Sequence name\n",
    "2. Source - the name of the program that made the feature\n",
    "3. Feature - the type of feature, for example gene or CDS\n",
    "4. Start position\n",
    "5. Stop position\n",
    "6. Score\n",
    "7. Strand (+ or -)\n",
    "8. Frame (0, 1, or 2)\n",
    "9. Optional extra information, in the form key1=value1;key2=value2;...\n",
    "\n",
    "The score, strand, and frame can be set to '.' if it is not relevant for that feature. The final column 9 may or may not be present and could contain any number of key, value pairs.\n",
    "\n",
    "We can use `awk` to just print the first column of the file. `awk` calls the columns `$1`, `$2`, ... etc, and the complete line is called `$0`. Try"
   ]
  },
  {
   "cell_type": "code",
   "execution_count": null,
   "metadata": {},
   "outputs": [],
   "source": [
    "awk -F\"\\t\" '{print $1}' genes.gff"
   ]
  },
  {
   "cell_type": "markdown",
   "metadata": {},
   "source": [
    "A little explanation is needed.\n",
    "\n",
    "* The option `-F\"\\t\"` was needed to tell `awk` that the columns are separated by tabs (more on this later).\n",
    "* For each line of the file, `awk` does what is inside the curly brackets. In this case, we simply print the first column ($1).\n",
    "\n",
    "The repeated chromosome names are not nice. It is more likely to want to know just the unique names, which can be found by piping into the Linux command `sort -u`. "
   ]
  },
  {
   "cell_type": "code",
   "execution_count": null,
   "metadata": {},
   "outputs": [],
   "source": [
    "awk -F\"\\t\" '{print $1}' genes.gff | sort -u"
   ]
  },
  {
   "cell_type": "markdown",
   "metadata": {},
   "source": [
    "In this command the `|` symbol is known as the _pipe_ symbol. This _pipes_ (sends) the output of the `awk` command into the input of `sort -u`. The `sort` will sort the contents of the input. When you sort the input, lines with identical content end up next to each other in the output. The `-u` option of the sort command will select only the unique values in the output."
   ]
  },
  {
   "cell_type": "markdown",
   "metadata": {},
   "source": [
    "You can connect as many commands as you want. For example, type:"
   ]
  },
  {
   "cell_type": "code",
   "execution_count": null,
   "metadata": {},
   "outputs": [],
   "source": [
    "awk -F\"\\t\" '{print $1}' genes.gff | sort -u | wc -l"
   ]
  },
  {
   "cell_type": "markdown",
   "metadata": {},
   "source": [
    "This will count the number of lines in the output."
   ]
  },
  {
   "cell_type": "markdown",
   "metadata": {},
   "source": [
    "### Filtering the input file\n",
    "Similarly to `grep`, `awk` can be used to filter out lines of a file. However, since awk is column-based, it makes it easy to filter based on properties of any columns of interest. The filtering criteria can be added before the braces. For example, the following extracts just chromosome 1 from the file."
   ]
  },
  {
   "cell_type": "code",
   "execution_count": null,
   "metadata": {},
   "outputs": [],
   "source": [
    "awk -F\"\\t\" '$1==\"chr1\" {print $0}' genes.gff"
   ]
  },
  {
   "cell_type": "markdown",
   "metadata": {},
   "source": [
    "There are two important things to note from the above command:\n",
    "\n",
    "1. `$1==\"chr1\"` means that column 1 must be *exactly* equal to \"chr1\". This means that \"chr10\" is not found.\n",
    "2. The \"`{print $0}`\" part only happens when the first column is equal to \"chr1\", otherwise `awk` does nothing (the line gets ignored).\n",
    "\n",
    "Awk commands are made up of two parts, a _pattern_ (e.g. `$1==\"chr1\"`) and an _action_ (e.g. `print $0`) which is contained in curly braces.  The _pattern_ defines which lines the _action_ is applied to.\n",
    "\n",
    "In fact, the action (the part in curly braces) can be omitted in this example. `awk` assumes that you want to print the whole line, unless it is told otherwise. This gives a simple method of filtering based on columns."
   ]
  },
  {
   "cell_type": "markdown",
   "metadata": {},
   "source": [
    "### Exercises\n",
    "\n",
    "The following exercises all use the BED file `exercises.bed`. Before starting the exercises, open a new terminal and navigate to the `awk` directory, which contains `exercises.bed`.\n",
    "\n",
    "Use `awk` to find the answers to the following questions about the file `exercises.bed`. Many questions will require using pipes (eg \"`awk ... | sort -u`\" for question 1).\n",
    "\n",
    "1. What are the names of the contigs in the file?\n",
    "2. How many contigs are there?\n",
    "3. How many features are on the positive strand?\n",
    "4. How many features are on the negative strand?\n",
    "5. How many repeat features are there?"
   ]
  },
  {
   "cell_type": "markdown",
   "metadata": {},
   "source": [
    "When you have completed these exercises move on to the next part of the tutorial, [Advanced Linux](advanced_linux.ipynb)."
   ]
  }
 ],
 "metadata": {
  "kernelspec": {
   "display_name": "Bash",
   "language": "bash",
   "name": "bash"
  },
  "language_info": {
   "codemirror_mode": "shell",
   "file_extension": ".sh",
   "mimetype": "text/x-sh",
   "name": "bash"
  }
 },
 "nbformat": 4,
 "nbformat_minor": 1
}
