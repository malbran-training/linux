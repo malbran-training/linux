{
 "cells": [
  {
   "cell_type": "markdown",
   "metadata": {},
   "source": [
    "# Linux for Bioinformatics\n",
    "\n",
    "## Introduction\n",
    "\n",
    "Unix and Unix-like operating systems are the standard operating system on most large computer systems in scientific research, in the same way that Microsoft Windows is the dominant operating system on desktop PCs. In this course we will use Linux, a Unix-like operating system which was originally created to provide a free open source operating system for PCs.\n",
    "\n",
    "Linux and MS Windows both perform the important job of managing the computer's hardware (screen, keyboard, mouse, hard disks, network connections, etc...) on your behalf. They also provide you with tools to manage your files and to run application software. They both offer a graphical user interface (desktop). These desktop interfaces look different between the operating systems, use different names for things (e.g. directory versus folder) and have different images but they mostly offer the same functionality.\n",
    "\n",
    "Linux is a powerful, secure, robust and stable operating system which allows dozens of people to run programs on the same computer at the same time. This is why it is the preferred operating system for large-scale scientific computing. It runs on all kinds of machines, from mobile phones (Android), desktop PCs... to supercomputers.\n",
    "\n",
    "\n",
    "### Why Linux?\n",
    "\n",
    "Increasingly, the output of biological research exists as in silico data, usually in the form of large text files. Linux is particularly suitable for working with such files and has several powerful and flexible commands that can be used to process and analyse this data. One advantage of learning Linux is that many of the commands can be combined in an almost unlimited fashion. So if you can learn just six Linux commands, you will be able to do a lot more than just six things.\n",
    "\n",
    "Linux contains hundreds of commands, but to conduct your analysis you will probably only need 10 or so to achieve most of what you want to do. In this tutorial we will introduce you to some useful Linux commands and provide examples of how they can be used in bioinformatics analyses.\n",
    "\n",
    "## Learning outcomes\n",
    "By the end of the tutorial you can expect to be able to:\n",
    "\n",
    "* Understand the Linux directory structure and navigate around this structure\n",
    "* Extract information from large files\n",
    "* Use regular expressions to search for particular patterns in a file\n",
    "* Create a bash script to perform several tasks at once\n",
    "\n",
    "## Tutorial sections\n",
    "This tutorial comprises the following sections: \n",
    "\n",
    "1. [Basic Linux](basic.ipynb) \n",
    "2. [Commands grep and awk](grep_and_awk.ipynb) \n",
    "3. [Advanced Linux (loops and Bash scripts)](advanced_linux.ipynb) \n",
    "4. [Bash scripting](bash.ipynb) \n",
    "\n",
    "**Note:** We do not expect you to get through all the material in the time allocated and a good target to aim for is the end of section 3 [Advanced Linux (loops and Bash scripts)](advanced_linux.ipynb). The remaining sections are optional and are for students who would like to expand their Linux skills and can be completed outside the course hours.\n",
    "\n",
    "## Authors and License\n",
    "This tutorial was created by [Jacqui Keane](https://github.com/jacquikeane) and [Martin Hunt](https://github.com/martinghunt).\n",
    "\n",
    "The content is licensed under a [Creative Commons Attribution 4.0 International License (CC-By 4.0)](https://creativecommons.org/licenses/by/4.0/).\n",
    "\n",
    "## Running the commands in this tutorial\n",
    "You can follow this tutorial by typing all the commands you see in a terminal window on your computer. This is similar to the \"Command Prompt\" window on MS Windows systems, which allows the user to type DOS commands to manage files.\n",
    "\n",
    "To get started, open a terminal window and type the command below followed by the `Enter` key:"
   ]
  },
  {
   "cell_type": "code",
   "execution_count": null,
   "metadata": {},
   "outputs": [],
   "source": [
    "cd ~/course_data/linux/data"
   ]
  },
  {
   "cell_type": "markdown",
   "metadata": {},
   "source": [
    "Now you can follow the instructions in the tutorial from here.\n",
    "\n",
    "## Cheat sheet\n",
    "\n",
    "We've also included a [cheat sheet](cheat_sheet.ipynb) at the end of this tutorial. It probably won't make a lot of sense now, but it might be a useful reminder of this module later in the tutorial.\n",
    "\n",
    "## Let’s get started!\n",
    "    \n",
    "To get started with the tutorial, go to the next section: [Basic Linux](basic.ipynb)"
   ]
  }
 ],
 "metadata": {
  "kernelspec": {
   "display_name": "Bash",
   "language": "bash",
   "name": "bash"
  },
  "language_info": {
   "codemirror_mode": "shell",
   "file_extension": ".sh",
   "mimetype": "text/x-sh",
   "name": "bash"
  }
 },
 "nbformat": 4,
 "nbformat_minor": 1
}
