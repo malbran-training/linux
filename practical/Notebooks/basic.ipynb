{
 "cells": [
  {
   "cell_type": "markdown",
   "metadata": {},
   "source": [
    "# Basic Linux\n",
    "\n",
    "## The Commandline\n",
    "\n",
    "The commandline or 'terminal' is an interface you can use to run programs and analyse your data.  If this is your first time using one it will seem pretty daunting at first but, with just a few commands, you'll start to see how it helps you to get things done more efficiently."
   ]
  },
  {
   "cell_type": "markdown",
   "metadata": {},
   "source": [
    "## Getting started\n",
    "\n",
    "Let's check that you're in the right place. Type the command below in the terminal window followed by the `Enter` key:"
   ]
  },
  {
   "cell_type": "code",
   "execution_count": null,
   "metadata": {
    "scrolled": true
   },
   "outputs": [],
   "source": [
    "pwd"
   ]
  },
  {
   "cell_type": "markdown",
   "metadata": {},
   "source": [
    "It should display something similar to:"
   ]
  },
  {
   "cell_type": "markdown",
   "metadata": {},
   "source": [
    "`/home/manager/course_data/linux/data`"
   ]
  },
  {
   "cell_type": "markdown",
   "metadata": {},
   "source": [
    "Then continue through the course, entering any commands that you encounter (highlighted in a grey box with a keyboard symbol) into your terminal window. Let's start by listing the contents of the current directory:"
   ]
  },
  {
   "cell_type": "code",
   "execution_count": null,
   "metadata": {},
   "outputs": [],
   "source": [
    "ls"
   ]
  },
  {
   "cell_type": "markdown",
   "metadata": {},
   "source": [
    "You should see 6 items:\n",
    "\n",
    "`advanced_linux` `awk` `bash_scripts` `basic` `files` `grep`"
   ]
  },
  {
   "cell_type": "markdown",
   "metadata": {},
   "source": [
    "Before getting started there are some general points to remember that will make your life easier:\n",
    "\n",
    "* Linux is case sensitive - typing `ls` is not the same as typing `LS`.\n",
    "* Often when you have problems with Linux, it is due to a spelling mistake.  Check that you have not missed or added a space. Pay careful attention if typing commands across multiple lines."
   ]
  },
  {
   "cell_type": "markdown",
   "metadata": {},
   "source": [
    "## Files and directories\n",
    "\n",
    "_Directories_ are the Linux equivalent of folders on a PC or Mac. They are organised in a hierarchy, so directories can have sub-directories and so on. Directories are very useful for organising your work and keeping your account tidy - for example, if you have more than one project, you can organise the files for each project into different directories to keep them separate. \n",
    "\n",
    "The start of the filesystem is known as the root directory and denoted with `/` symbol. The location or directory that you are in at any given time is referred to as the current working directory denoted with the `.` symbol. \n",
    "\n",
    "Every file and directory on the computer is found in a specific location. The location is specified as a path to that file or directory and can be expresed as either the _relative path_ or _absolute path_.\n",
    "\n",
    "The _relative path_ is the location of a file or directory from the current working directory (.).\n",
    "\n",
    "The _absolute path_ is the location of a file or directory from the start of the file system or root directory (/)."
   ]
  },
  {
   "cell_type": "markdown",
   "metadata": {},
   "source": [
    "For example, for the file called `directory_structure.png` under the `linux` directory, the location or _relative path_ can be expressed as:"
   ]
  },
  {
   "cell_type": "code",
   "execution_count": null,
   "metadata": {},
   "outputs": [],
   "source": [
    "ls ./basic/directory_structure.png"
   ]
  },
  {
   "cell_type": "markdown",
   "metadata": {},
   "source": [
    "The location of this file can also be expressed using the _absolute path_ as:"
   ]
  },
  {
   "cell_type": "code",
   "execution_count": null,
   "metadata": {},
   "outputs": [],
   "source": [
    "ls /home/manager/course_data/linux/basic/directory_structure.png"
   ]
  },
  {
   "cell_type": "markdown",
   "metadata": {},
   "source": [
    "![Directory structure](images/directory_structure.png)"
   ]
  },
  {
   "cell_type": "markdown",
   "metadata": {},
   "source": [
    "## tree - display the directory hierarchy\n",
    "\n",
    "The command `tree` can be used to recursively list or display the content of a directory in a tree-like format. It outputs the directory paths and files in each sub-directory and a summary of a total number of sub-directories and files.\n",
    "\n",
    "To display the contents of the current directory, type:"
   ]
  },
  {
   "cell_type": "code",
   "execution_count": null,
   "metadata": {
    "scrolled": true
   },
   "outputs": [],
   "source": [
    "tree"
   ]
  },
  {
   "cell_type": "markdown",
   "metadata": {},
   "source": [
    "## cd - change directory\n",
    "\n",
    "The command `cd` stands for change directory. The `cd` command will move you from the current working directory to another directory.\n",
    "\n",
    "To move into the `basic` directory type the following command. Note, you'll remember this more easily if you type this rather than copying and pasting."
   ]
  },
  {
   "cell_type": "code",
   "execution_count": null,
   "metadata": {},
   "outputs": [],
   "source": [
    "cd basic"
   ]
  },
  {
   "cell_type": "markdown",
   "metadata": {},
   "source": [
    "## Getting help man\n",
    "\n",
    "It is not possible to remember all the options and arguments for all Linux commands! A useful command to obtain further information on any of Linux command is the `man` command. For example, to get a full description and examples of how to use the `find` command type the following command in a terminal window."
   ]
  },
  {
   "cell_type": "code",
   "execution_count": null,
   "metadata": {},
   "outputs": [],
   "source": [
    "man find"
   ]
  },
  {
   "cell_type": "markdown",
   "metadata": {},
   "source": [
    "## find - find a file\n",
    "\n",
    "The `find` command can be used to find files matching a given pattern. It can be used to recursively search the directory tree for a specified name, seeking files and directories that match the given name."
   ]
  },
  {
   "cell_type": "markdown",
   "metadata": {},
   "source": [
    "To find all files in the current directory and all its subdirectories that end with the suffix gff:"
   ]
  },
  {
   "cell_type": "code",
   "execution_count": null,
   "metadata": {},
   "outputs": [],
   "source": [
    "find . -name *.gff"
   ]
  },
  {
   "cell_type": "markdown",
   "metadata": {},
   "source": [
    "How many gff files did you find?"
   ]
  },
  {
   "cell_type": "markdown",
   "metadata": {},
   "source": [
    "Can you construct a command to find all the subdirectories contained in the current directory?"
   ]
  },
  {
   "cell_type": "code",
   "execution_count": null,
   "metadata": {},
   "outputs": [],
   "source": []
  },
  {
   "cell_type": "markdown",
   "metadata": {},
   "source": [
    "How many subdirectories did you find?"
   ]
  },
  {
   "cell_type": "markdown",
   "metadata": {},
   "source": [
    "## Tab completion\n",
    "\n",
    "Typing out directory or file names is really boring and you're likely to make typos which will at best make your command fail with a strange error and at worst overwrite some of your carefully crafted analysis.  _Tab completion_ is a trick which normally reduces this risk significantly.\n",
    "\n",
    "Instead of typing out `ls Styphi/`, try typing `ls S` and then press the `tab` key (instead of `Enter`). The rest of the folder name should just appear.  If you have two files of directories with simiar names (e.g. `directory_structure.png` and `directory_structure2.png`) then you might need to give your terminal a bit of a hand to work out which one you want.  In this case you would type `ls -l d`, when you press `tab` the terminal would read `ls -l directory_structure`, you could then type `2` followed by another `tab` and it would work out that you meant `directory_structure2.png`"
   ]
  },
  {
   "cell_type": "markdown",
   "metadata": {},
   "source": [
    "## Tips\n",
    "\n",
    "There are some short cuts for referring to directories:\n",
    "\n",
    "* . Current directory (one full stop)\n",
    "* .. Directory above in the hierarchy (two full stops)\n",
    "* ~ Home directory (tilde)\n",
    "* / Root of the file system (like C:\\ in Windows)\n",
    "\n",
    "Try the following commands, what do they do?"
   ]
  },
  {
   "cell_type": "code",
   "execution_count": null,
   "metadata": {},
   "outputs": [],
   "source": [
    "ls ."
   ]
  },
  {
   "cell_type": "code",
   "execution_count": null,
   "metadata": {},
   "outputs": [],
   "source": [
    "ls .."
   ]
  },
  {
   "cell_type": "code",
   "execution_count": null,
   "metadata": {},
   "outputs": [],
   "source": [
    "ls ~"
   ]
  },
  {
   "cell_type": "markdown",
   "metadata": {},
   "source": [
    "## Exercises\n",
    "\n",
    "Many people panic when they are confronted with a Linux prompt! Don’t! All the commands you need to solve these exercises are provided above and don't be afraid to make a mistake. If you get lost ask an instructor. If you are a person skilled at Linux, be patient this is only a short exercise.\n",
    "\n",
    "To begin, open a terminal window and navigate to the `basic` directory under the the `linux` directory (remember use the command `cd`) and then complete the exercise below.\n",
    "\n",
    "1. List the contents of the directory\n",
    "2. How many files are there in the `Styphi` directory?\n",
    "3. How many files are there in the `Pfalciparum` directory?\n",
    "4. Use the `find` command to find all the gff files in the `linux` directory, how many files did you find?\n",
    "5. Use the `find` command to find all the fasta files in the `linux` directory, how many files did you find?"
   ]
  },
  {
   "cell_type": "markdown",
   "metadata": {},
   "source": [
    "When you have completed these exercises move on to the next part of the tutorial, [grep and awk](grep_and_awk.ipynb). "
   ]
  }
 ],
 "metadata": {
  "kernelspec": {
   "display_name": "Bash",
   "language": "bash",
   "name": "bash"
  },
  "language_info": {
   "codemirror_mode": "shell",
   "file_extension": ".sh",
   "mimetype": "text/x-sh",
   "name": "bash"
  }
 },
 "nbformat": 4,
 "nbformat_minor": 1
}
