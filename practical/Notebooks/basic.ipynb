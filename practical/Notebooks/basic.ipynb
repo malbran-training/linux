{
 "cells": [
  {
   "cell_type": "markdown",
   "metadata": {},
   "source": [
    "# Basic Linux\n",
    "\n",
    "## The Commandline\n",
    "\n",
    "The commandline or 'terminal' is an interface you can use to run programs and analyse your data.  If this is your first time using one it will seem pretty daunting at first but, with just a few commands, you'll start to see how it helps you to get things done more efficiently.  You're probably more familiar with software which uses a graphical user interface, also known as a GUI."
   ]
  },
  {
   "cell_type": "markdown",
   "metadata": {},
   "source": [
    "## Getting started\n",
    "\n",
    "Let's check that you're in the right place. Type the command below in the terminal window followed by the `Enter` key:"
   ]
  },
  {
   "cell_type": "code",
   "execution_count": null,
   "metadata": {
    "scrolled": true
   },
   "outputs": [],
   "source": [
    "pwd"
   ]
  },
  {
   "cell_type": "markdown",
   "metadata": {},
   "source": [
    "It should display something similar to:"
   ]
  },
  {
   "cell_type": "markdown",
   "metadata": {},
   "source": [
    "`/home/manager/course_data/linux/data`"
   ]
  },
  {
   "cell_type": "markdown",
   "metadata": {},
   "source": [
    "Then continue through the course, entering any commands that you encounter (highlighted in a grey box with a keyboard symbol) into your terminal window. Let's start by listing the contents of the currect directory:"
   ]
  },
  {
   "cell_type": "code",
   "execution_count": null,
   "metadata": {},
   "outputs": [],
   "source": [
    "ls"
   ]
  },
  {
   "cell_type": "markdown",
   "metadata": {},
   "source": [
    "Before getting started there are some general points to remember that will make your life easier:\n",
    "\n",
    "* Linux is case sensitive - typing `ls` is not the same as typing `LS`.\n",
    "* Often when you have problems with Linux, it is due to a spelling mistake.  Check that you have not missed or added a space. Pay careful attention when typing commands across a couple of lines."
   ]
  },
  {
   "cell_type": "markdown",
   "metadata": {},
   "source": [
    "## Files and directories\n",
    "\n",
    "_Directories_ are the Linux equivalent of folders on a PC or Mac. They are organised in a hierarchy, so directories can have sub-directories and so on. Directories are very useful for organising your work and keeping your account tidy - for example, if you have more than one project, you can organise the files for each project into different directories to keep them separate. You can think of directories as rooms in a house. You can only be in one room (directory) at a time. When you are in a room you can see everything in that room easily. To see things in other rooms, you have to go to the appropriate door and crane your head around. Linux works in a similar manner, moving from directory to directory to access files. The location or directory that you are in is referred to as the current working directory.\n",
    "\n",
    "For the file called `index.ipynb` under the `linux` directory, the location or full pathname can be expressed as:"
   ]
  },
  {
   "cell_type": "code",
   "execution_count": null,
   "metadata": {},
   "outputs": [],
   "source": [
    "ls /home/manager/course_data/linux/practical/Notebooks/index.ipynb"
   ]
  },
  {
   "cell_type": "markdown",
   "metadata": {},
   "source": [
    "![Directory structure](images/directory_structure.png)"
   ]
  },
  {
   "cell_type": "markdown",
   "metadata": {},
   "source": [
    "## tree - display the directory hierarchy\n",
    "\n",
    "The command `tree` can be used to recursively list or display the content of a directory in a tree-like format. It outputs the directory paths and files in each sub-directory and a summary of a total number of sub-directories and files.\n",
    "\n",
    "To display the contents of the current directory, type:"
   ]
  },
  {
   "cell_type": "code",
   "execution_count": null,
   "metadata": {
    "scrolled": true
   },
   "outputs": [],
   "source": [
    "tree"
   ]
  },
  {
   "cell_type": "markdown",
   "metadata": {},
   "source": [
    "## cd - change directory\n",
    "\n",
    "The command cd stands for change directory. The `cd` command will move you from the current working directory to another directory.\n",
    "\n",
    "To move into the `basic` directory type the following command. Note, you'll remember this more easily if you type this rather than copying and pasting."
   ]
  },
  {
   "cell_type": "code",
   "execution_count": null,
   "metadata": {},
   "outputs": [],
   "source": [
    "cd basic"
   ]
  },
  {
   "cell_type": "markdown",
   "metadata": {},
   "source": [
    "## ls - list the contents of a directory\n",
    "\n",
    "The command `ls` stands for list.  The `ls` command can be used to list the contents of a directory.\n",
    "\n",
    "To list the contents of your current working directory type:"
   ]
  },
  {
   "cell_type": "code",
   "execution_count": null,
   "metadata": {
    "scrolled": true
   },
   "outputs": [],
   "source": [
    "ls"
   ]
  },
  {
   "cell_type": "markdown",
   "metadata": {},
   "source": [
    "You should see that there are 4 items in this directory."
   ]
  },
  {
   "cell_type": "markdown",
   "metadata": {},
   "source": [
    "To list all contents of a directory including hidden files and directories (hidden files and directories are not shown by default and are used to help prevent important data from being deleted) type:"
   ]
  },
  {
   "cell_type": "code",
   "execution_count": null,
   "metadata": {
    "scrolled": false
   },
   "outputs": [],
   "source": [
    "ls -a -l"
   ]
  },
  {
   "cell_type": "markdown",
   "metadata": {},
   "source": [
    "This is an example of a command which can take multiple options at the same time.\n",
    "\n",
    "How many hidden files and directories are there?\n",
    "\n",
    "Try the same command but with the `-h` option:"
   ]
  },
  {
   "cell_type": "code",
   "execution_count": null,
   "metadata": {
    "scrolled": true
   },
   "outputs": [],
   "source": [
    "ls -alh"
   ]
  },
  {
   "cell_type": "markdown",
   "metadata": {},
   "source": [
    "You'll also notice that we've combined `-a -l -h` into what appears to be a single `-alh` option.  It's almost always ok to do this for options which are made up of a single dash followed by a single letter.\n",
    "\n",
    "What does the `-h` option do?\n",
    "\n",
    "To list the contents of the directory called Pfalciparum with extra information type:"
   ]
  },
  {
   "cell_type": "code",
   "execution_count": null,
   "metadata": {
    "scrolled": true
   },
   "outputs": [],
   "source": [
    "ls -l Styphi/"
   ]
  },
  {
   "cell_type": "markdown",
   "metadata": {},
   "source": [
    "Here we gave the command `ls` the _option_ `-l` and the _argument_ `Styphi`. Arguments are very similar to options, they are used to provide additional information to a command and often refer to things which are not prefixed with dashes. \n",
    "\n",
    "In this example we have provided information about the directory that we want to list the contents of, this argument `Pfalciparum` is the _relative path_ to the directory `Styphi` from our current working directory.\n",
    "\n",
    "How many files are there in this directory?"
   ]
  },
  {
   "cell_type": "markdown",
   "metadata": {},
   "source": [
    "## Getting help man\n",
    "\n",
    "It is not possible to remember all the options and arguments for all linux commands. A useful command to obtain further information on any of Linux command is the `man` command. For example, to get a full description and examples of how to use the `find` command type the following command in a terminal window."
   ]
  },
  {
   "cell_type": "code",
   "execution_count": null,
   "metadata": {},
   "outputs": [],
   "source": [
    "man find"
   ]
  },
  {
   "cell_type": "markdown",
   "metadata": {},
   "source": [
    "## find - find a file\n",
    "\n",
    "The `find` command can be used to find files matching a given pattern. It can be used to recursively search the directory tree for a specified name, seeking files and directories that match the given name."
   ]
  },
  {
   "cell_type": "markdown",
   "metadata": {},
   "source": [
    "To find all files in the current directory and all its subdirectories that end with the suffix gff:"
   ]
  },
  {
   "cell_type": "code",
   "execution_count": null,
   "metadata": {},
   "outputs": [],
   "source": [
    "find . -name *.gff"
   ]
  },
  {
   "cell_type": "markdown",
   "metadata": {},
   "source": [
    "How many gff files did you find?"
   ]
  },
  {
   "cell_type": "markdown",
   "metadata": {},
   "source": [
    "To find all the subdirectories contained in the current directory type:"
   ]
  },
  {
   "cell_type": "code",
   "execution_count": null,
   "metadata": {},
   "outputs": [],
   "source": [
    "find . -type d"
   ]
  },
  {
   "cell_type": "markdown",
   "metadata": {},
   "source": [
    "How many subdirectories did you find?"
   ]
  },
  {
   "cell_type": "markdown",
   "metadata": {},
   "source": [
    "## Tab completion\n",
    "\n",
    "Typing out directory or file names is really boring and you're likely to make typos which will at best make your command fail with a strange error and at worst overwrite some of your carefully crafted analysis.  _Tab completion_ is a trick which normally reduces this risk significantly.\n",
    "\n",
    "Instead of typing out `ls Styphi/`, try typing `ls S` and then press the `tab` key (instead of `Enter`). The rest of the folder name should just appear.  If you have two files of directories with simiar names (e.g. `directory_structure.png` and `directory_structure2.png`) then you might need to give your terminal a bit of a hand to work out which one you want.  In this case you would type `ls -l d`, when you press `tab` the terminal would read `ls -l directory_structure`, you could then type `2` followed by another `tab` and it would work out that you meant `directory_structure2.png`"
   ]
  },
  {
   "cell_type": "markdown",
   "metadata": {},
   "source": [
    "## Tips\n",
    "\n",
    "There are some short cuts for referring to directories:\n",
    "\n",
    "* . Current directory (one full stop)\n",
    "* .. Directory above in the hierarchy (two full stops)\n",
    "* ~ Home directory (tilde)\n",
    "* / Root of the file system (like C:\\ in Windows)\n",
    "\n",
    "Try the following commands, what do they do?"
   ]
  },
  {
   "cell_type": "code",
   "execution_count": null,
   "metadata": {},
   "outputs": [],
   "source": [
    "ls ."
   ]
  },
  {
   "cell_type": "code",
   "execution_count": null,
   "metadata": {},
   "outputs": [],
   "source": [
    "ls .."
   ]
  },
  {
   "cell_type": "code",
   "execution_count": null,
   "metadata": {},
   "outputs": [],
   "source": [
    "ls ~"
   ]
  },
  {
   "cell_type": "markdown",
   "metadata": {},
   "source": [
    "## Exercises\n",
    "\n",
    "Many people panic when they are confronted with a Linux prompt! Don’t! All the commands you need to solve these exercises are provided above and don't be afraid to make a mistake. If you get lost ask an instructor. If you are a person skilled at Linux, be patient this is only a short exercise.\n",
    "\n",
    "To begin, open a terminal window and navigate to the `basic` directory under the the `linux` directory (remember use the command `cd`) and then complete the exercise below.\n",
    "\n",
    "1. Use the `ls` command to show the contents of the `basic` directory.\n",
    "2. How many files are there in the `Pfalciparum` directory?\n",
    "3. What is the largest file in the `Pfalciparum` directory?\n",
    "4. Move into the `Pfalciparum` directory.\n",
    "5. How many files are there in the `fasta` directory?\n",
    "6. Copy the file `Pfalciparum.bed` in the `Pfalciparum` directory into the `annotation` directory.\n",
    "7. Move all the fasta files in the directory `Pfalciparum` to the `fasta` directory.\n",
    "8. How many files are there in the `fasta` directory?\n",
    "9. Use the `find` command to find all gff files in the `linux` directory, how many files did you find?\n",
    "10. Use the `find` command to find all the fasta files in the `linux` directory, how many files did you find?"
   ]
  },
  {
   "cell_type": "markdown",
   "metadata": {},
   "source": [
    "When you have completed these exercises move on to the next part of the tutorial, [grep and awk](grep_and_awk.ipynb). "
   ]
  }
 ],
 "metadata": {
  "kernelspec": {
   "display_name": "Bash",
   "language": "bash",
   "name": "bash"
  },
  "language_info": {
   "codemirror_mode": "shell",
   "file_extension": ".sh",
   "mimetype": "text/x-sh",
   "name": "bash"
  }
 },
 "nbformat": 4,
 "nbformat_minor": 1
}
